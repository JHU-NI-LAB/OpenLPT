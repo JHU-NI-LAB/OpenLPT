{
 "cells": [
  {
   "cell_type": "code",
   "execution_count": 1,
   "metadata": {},
   "outputs": [
    {
     "data": {
      "text/plain": [
       "<pyOpenLPT.PythonStreamRedirector at 0x1f4035becf0>"
      ]
     },
     "execution_count": 1,
     "metadata": {},
     "output_type": "execute_result"
    }
   ],
   "source": [
    "import numpy as np \n",
    "import matplotlib.pyplot as plt\n",
    "\n",
    "import pyOpenLPT as lpt\n",
    "lpt.PythonStreamRedirector()"
   ]
  },
  {
   "cell_type": "markdown",
   "metadata": {},
   "source": [
    "### ObjectInfo"
   ]
  },
  {
   "cell_type": "code",
   "execution_count": 2,
   "metadata": {},
   "outputs": [
    {
     "name": "stdout",
     "output_type": "stream",
     "text": [
      "\n",
      "Matrix = \n",
      "(dim_row, dim_col) = (2,1)\n",
      "| 0.000e+00 |\n",
      "| 0.000e+00 |\n",
      "\n",
      "\n",
      "Matrix = \n",
      "(dim_row, dim_col) = (2,1)\n",
      "| 1.000e+00 |\n",
      "| 2.000e+00 |\n",
      "\n",
      "\n",
      "Matrix = \n",
      "(dim_row, dim_col) = (2,1)\n",
      "| 0.000e+00 |\n",
      "| 0.000e+00 |\n",
      "\n",
      "_r_px 2.0\n",
      "\n",
      "Matrix = \n",
      "(dim_row, dim_col) = (3,1)\n",
      "| 1.000e+00 |\n",
      "| 2.000e+00 |\n",
      "| 3.000e+00 |\n",
      "\n",
      "_is_tracked: False\n"
     ]
    }
   ],
   "source": [
    "obj = lpt.object.Object2D()\n",
    "obj._pt_center.print(3)\n",
    "\n",
    "pt2d = lpt.math.Pt2D(1, 2)\n",
    "obj = lpt.object.Object2D(pt2d)\n",
    "obj._pt_center.print(3)\n",
    "\n",
    "obj = lpt.object.Tracer2D()\n",
    "obj._pt_center.print(3)\n",
    "print('_r_px', obj._r_px)\n",
    "\n",
    "obj = lpt.object.Object3D()\n",
    "obj._pt_center = lpt.math.Pt3D(1, 2, 3)\n",
    "obj._pt_center.print(3)\n",
    "print('_is_tracked:', obj._is_tracked)\n"
   ]
  },
  {
   "cell_type": "code",
   "execution_count": 10,
   "metadata": {},
   "outputs": [
    {
     "name": "stdout",
     "output_type": "stream",
     "text": [
      "\n",
      "Matrix = \n",
      "(dim_row, dim_col) = (2,1)\n",
      "| 4.803e+02 |\n",
      "| 4.361e+02 |\n",
      "\n"
     ]
    }
   ],
   "source": [
    "obj = lpt.object.Tracer3D()\n",
    "obj._pt_center = lpt.math.Pt3D(1, 2, 3)\n",
    "obj.saveObject3D(\"../../test/results/test_ObjectInfo/pyObjectInfo.txt\", 1, is_append=False)\n",
    "\n",
    "# project 3D object to all 2D cams \n",
    "camList = []\n",
    "for i in range(4):\n",
    "    file = \"../../test/inputs/test_ObjectInfo/cam\" + str(i+1) + \".txt\"\n",
    "    camList.append(lpt.math.Camera(file))\n",
    "camid_List = [0, 2]\n",
    "obj.projectObject2D(camid_List, camList)\n",
    "tr2d = obj.getTracer2D(2)\n",
    "tr2d._pt_center.print()\n",
    "\n",
    "obj.saveObject3D(\"../../test/results/test_ObjectInfo/pyObjectInfo.txt\", 4, is_append=True)"
   ]
  },
  {
   "cell_type": "code",
   "execution_count": 18,
   "metadata": {},
   "outputs": [
    {
     "name": "stdout",
     "output_type": "stream",
     "text": [
      "0\n",
      "0\n",
      "1\n"
     ]
    }
   ],
   "source": [
    "obj.clearTracer2D()\n",
    "print(obj._n_2d)\n",
    "\n",
    "obj.updateTracer2D(tr2d, 2)\n",
    "print(obj._n_2d)\n",
    "\n",
    "obj.updateTracer2D([tr2d], [2])\n",
    "print(obj._n_2d)"
   ]
  },
  {
   "cell_type": "code",
   "execution_count": null,
   "metadata": {},
   "outputs": [],
   "source": []
  }
 ],
 "metadata": {
  "kernelspec": {
   "display_name": "OpenLPTGUI",
   "language": "python",
   "name": "python3"
  },
  "language_info": {
   "codemirror_mode": {
    "name": "ipython",
    "version": 3
   },
   "file_extension": ".py",
   "mimetype": "text/x-python",
   "name": "python",
   "nbconvert_exporter": "python",
   "pygments_lexer": "ipython3",
   "version": "3.9.19"
  }
 },
 "nbformat": 4,
 "nbformat_minor": 2
}
