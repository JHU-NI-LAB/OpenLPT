{
 "cells": [
  {
   "cell_type": "code",
   "execution_count": 1,
   "metadata": {},
   "outputs": [],
   "source": [
    "import numpy as np \n",
    "import matplotlib.pyplot as plt\n",
    "\n",
    "import pyOpenLPT as lpt\n",
    "redirector = lpt.PythonStreamRedirector()\n",
    "\n",
    "def print_dict(dict):\n",
    "    for key in dict:\n",
    "        print(key+\":\", dict[key])"
   ]
  },
  {
   "cell_type": "markdown",
   "metadata": {},
   "source": [
    "### StereoMatch class"
   ]
  },
  {
   "cell_type": "code",
   "execution_count": 2,
   "metadata": {},
   "outputs": [
    {
     "name": "stdout",
     "output_type": "stream",
     "text": [
      "cam_list: [<pyOpenLPT.math.Camera object at 0x000001D16308DE70>, <pyOpenLPT.math.Camera object at 0x000001D16308DDF0>, <pyOpenLPT.math.Camera object at 0x000001D16308DF30>, <pyOpenLPT.math.Camera object at 0x000001D16308DF70>]\n",
      "intensity_max: [255, 255, 255, 255]\n",
      "useid_list: [0, 1, 2, 3]\n",
      "cam1: 32926 tracers\n",
      "cam2: 32926 tracers\n",
      "cam3: 32926 tracers\n",
      "cam4: 32926 tracers\n"
     ]
    }
   ],
   "source": [
    "# load cam \n",
    "cam = []\n",
    "intensity_max = []\n",
    "useid_list = []\n",
    "for i in range(4):\n",
    "    file = '../../test/inputs/test_StereoMatch/cam' + str(i+1) + '.txt'\n",
    "    cam.append(lpt.math.Camera(file))\n",
    "    intensity_max.append(255)\n",
    "    useid_list.append(i)\n",
    "cam_list = lpt.math.CamList(cam, intensity_max, useid_list)\n",
    "print_dict(cam_list.to_dict())\n",
    "\n",
    "# load 2d tracer \n",
    "tr2d_list_all = []\n",
    "for i in range(4):\n",
    "    file = '../../test/inputs/test_StereoMatch/pt2d_list_cam' + str(i+1) + '.csv'\n",
    "    pt2d = np.loadtxt(file, delimiter=',')\n",
    "    n_tr2d = pt2d.shape[0]\n",
    "    print('cam'+str(i+1)+':', n_tr2d, 'tracers')\n",
    "    \n",
    "    tr2d = []\n",
    "    for j in range(n_tr2d):\n",
    "        tr2d.append(lpt.object.Tracer2D(lpt.math.Pt2D(pt2d[j,0], pt2d[j,1])))\n",
    "        \n",
    "    tr2d_list_all.append(tr2d)\n",
    "    "
   ]
  },
  {
   "cell_type": "code",
   "execution_count": 4,
   "metadata": {},
   "outputs": [
    {
     "name": "stdout",
     "output_type": "stream",
     "text": [
      "StereoMatch Parameters:\n",
      "tor_2d: 1.0\n",
      "tor_3d: 0.005\n",
      "n_thread: 6\n",
      "check_id: 3\n",
      "check_radius: 1.0\n",
      "is_delete_ghost: False\n",
      "is_update_inner_var: False\n"
     ]
    }
   ],
   "source": [
    "# initialize the stereomatch params \n",
    "param = lpt.stb.SMParam()\n",
    "param.tor_2d = 1\n",
    "param.tor_3d = 5e-3\n",
    "param.n_thread = 6\n",
    "param.check_id = 3\n",
    "param.check_radius = 1\n",
    "param.is_delete_ghost = False\n",
    "\n",
    "print('StereoMatch Parameters:')\n",
    "for key in param.to_dict().keys():\n",
    "    print(key+':', param.to_dict()[key])\n",
    "    "
   ]
  },
  {
   "cell_type": "code",
   "execution_count": 6,
   "metadata": {},
   "outputs": [
    {
     "name": "stdout",
     "output_type": "stream",
     "text": [
      "\tFinish stereomatching: n_before_del = 34499.\n"
     ]
    }
   ],
   "source": [
    "# stereo match\n",
    "sm = lpt.stb.StereoMatch(param, cam_list)\n",
    "tr3d_list = sm.match(tr2d_list_all)"
   ]
  },
  {
   "cell_type": "code",
   "execution_count": 7,
   "metadata": {},
   "outputs": [
    {
     "name": "stdout",
     "output_type": "stream",
     "text": [
      "\n",
      "Matrix = \n",
      "(dim_row, dim_col) = (3,1)\n",
      "| -1.234e+01 |\n",
      "| 4.884e+00 |\n",
      "| -2.491e+00 |\n",
      "\n"
     ]
    }
   ],
   "source": [
    "pt3d = tr3d_list[0]._pt_center\n",
    "pt3d.print(3)"
   ]
  },
  {
   "cell_type": "code",
   "execution_count": null,
   "metadata": {},
   "outputs": [],
   "source": []
  }
 ],
 "metadata": {
  "kernelspec": {
   "display_name": "OpenLPTGUI",
   "language": "python",
   "name": "python3"
  },
  "language_info": {
   "codemirror_mode": {
    "name": "ipython",
    "version": 3
   },
   "file_extension": ".py",
   "mimetype": "text/x-python",
   "name": "python",
   "nbconvert_exporter": "python",
   "pygments_lexer": "ipython3",
   "version": "3.9.19"
  }
 },
 "nbformat": 4,
 "nbformat_minor": 2
}
