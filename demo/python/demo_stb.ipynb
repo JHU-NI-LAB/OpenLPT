{
 "cells": [
  {
   "cell_type": "code",
   "execution_count": 1,
   "metadata": {},
   "outputs": [],
   "source": [
    "import numpy as np \n",
    "import matplotlib.pyplot as plt\n",
    "import os\n",
    "\n",
    "import pyOpenLPT as lpt\n",
    "redirector = lpt.PythonStreamRedirector()\n",
    "\n",
    "def print_dict(dict):\n",
    "    for key in dict:\n",
    "        print(key+\":\", dict[key])\n",
    "    print('')"
   ]
  },
  {
   "cell_type": "code",
   "execution_count": 3,
   "metadata": {},
   "outputs": [],
   "source": [
    "# create folder for output\n",
    "os.makedirs(\"../../test/results/test_StereoMatch/\", exist_ok=True)\n",
    "os.makedirs(\"../../test/results/test_Shake\", exist_ok=True)\n",
    "os.makedirs(\"../../test/results/test_IPR/\", exist_ok=True)\n",
    "os.makedirs(\"../../test/results/test_PredField/\", exist_ok=True)\n",
    "os.makedirs(\"../../test/results/test_Track/\", exist_ok=True)"
   ]
  },
  {
   "cell_type": "markdown",
   "metadata": {},
   "source": [
    "### StereoMatch class"
   ]
  },
  {
   "cell_type": "code",
   "execution_count": 2,
   "metadata": {},
   "outputs": [
    {
     "name": "stdout",
     "output_type": "stream",
     "text": [
      "cam_list: [<pyOpenLPT.math.Camera object at 0x000001EA437A44F0>, <pyOpenLPT.math.Camera object at 0x000001EA437A4530>, <pyOpenLPT.math.Camera object at 0x000001EA437A4570>, <pyOpenLPT.math.Camera object at 0x000001EA437A45B0>]\n",
      "intensity_max: [255, 255, 255, 255]\n",
      "useid_list: [0, 1, 2, 3]\n",
      "cam1: 32926 tracers\n",
      "cam2: 32926 tracers\n",
      "cam3: 32926 tracers\n",
      "cam4: 32926 tracers\n"
     ]
    }
   ],
   "source": [
    "# load cam \n",
    "cam = []\n",
    "intensity_max = []\n",
    "useid_list = []\n",
    "for i in range(4):\n",
    "    file = '../../test/inputs/test_StereoMatch/cam' + str(i+1) + '.txt'\n",
    "    cam.append(lpt.math.Camera(file))\n",
    "    intensity_max.append(255)\n",
    "    useid_list.append(i)\n",
    "cam_list = lpt.math.CamList(cam, intensity_max, useid_list)\n",
    "print_dict(cam_list.to_dict())\n",
    "\n",
    "# load 2d tracer \n",
    "tr2d_list_all = []\n",
    "for i in range(4):\n",
    "    file = '../../test/inputs/test_StereoMatch/pt2d_list_cam' + str(i+1) + '.csv'\n",
    "    pt2d = np.loadtxt(file, delimiter=',')\n",
    "    n_tr2d = pt2d.shape[0]\n",
    "    print('cam'+str(i+1)+':', n_tr2d, 'tracers')\n",
    "    \n",
    "    tr2d = []\n",
    "    for j in range(n_tr2d):\n",
    "        tr2d.append(lpt.object.Tracer2D(lpt.math.Pt2D(pt2d[j,0], pt2d[j,1])))\n",
    "        \n",
    "    tr2d_list_all.append(tr2d)\n",
    "    "
   ]
  },
  {
   "cell_type": "code",
   "execution_count": 4,
   "metadata": {},
   "outputs": [
    {
     "name": "stdout",
     "output_type": "stream",
     "text": [
      "StereoMatch Parameters:\n",
      "tor_2d: 1.0\n",
      "tor_3d: 0.005\n",
      "n_thread: 6\n",
      "check_id: 3\n",
      "check_radius: 1.0\n",
      "is_delete_ghost: False\n",
      "is_update_inner_var: False\n"
     ]
    }
   ],
   "source": [
    "# initialize the stereomatch params \n",
    "param = lpt.stb.SMParam()\n",
    "param.tor_2d = 1\n",
    "param.tor_3d = 5e-3\n",
    "param.n_thread = 6\n",
    "param.check_id = 3\n",
    "param.check_radius = 1\n",
    "param.is_delete_ghost = False\n",
    "\n",
    "print('StereoMatch Parameters:')\n",
    "for key in param.to_dict().keys():\n",
    "    print(key+':', param.to_dict()[key])\n",
    "    "
   ]
  },
  {
   "cell_type": "code",
   "execution_count": 5,
   "metadata": {},
   "outputs": [
    {
     "name": "stdout",
     "output_type": "stream",
     "text": [
      "\tFinish stereomatching: n_before_del = 34499.\n"
     ]
    }
   ],
   "source": [
    "# stereo match\n",
    "sm = lpt.stb.StereoMatch(param, cam_list)\n",
    "tr3d_list = sm.match(tr2d_list_all)"
   ]
  },
  {
   "cell_type": "code",
   "execution_count": 7,
   "metadata": {},
   "outputs": [
    {
     "name": "stdout",
     "output_type": "stream",
     "text": [
      "\n",
      "Matrix = \n",
      "(dim_row, dim_col) = (3,1)\n",
      "| -1.234e+01 |\n",
      "| 4.884e+00 |\n",
      "| -2.491e+00 |\n",
      "\n"
     ]
    }
   ],
   "source": [
    "pt3d = tr3d_list[0]._pt_center\n",
    "pt3d.print(3)"
   ]
  },
  {
   "cell_type": "code",
   "execution_count": 6,
   "metadata": {},
   "outputs": [],
   "source": [
    "sm.saveObjInfo(\"../../test/results/test_StereoMatch/tr3d.csv\", tr3d_list)"
   ]
  },
  {
   "cell_type": "markdown",
   "metadata": {},
   "source": [
    "### OTF class"
   ]
  },
  {
   "cell_type": "code",
   "execution_count": 5,
   "metadata": {},
   "outputs": [
    {
     "name": "stdout",
     "output_type": "stream",
     "text": [
      "dx: 0.1111111111111111\n",
      "dy: 0.1111111111111111\n",
      "dz: 0.1111111111111111\n",
      "n_cam: 4\n",
      "nx: 10\n",
      "ny: 10\n",
      "nz: 10\n",
      "n_grid: 1000\n",
      "a: <pyOpenLPT.math.Matrix object at 0x00000214BD7DF430>\n",
      "b: <pyOpenLPT.math.Matrix object at 0x00000214BD890F70>\n",
      "c: <pyOpenLPT.math.Matrix object at 0x00000214BD8905B0>\n",
      "alpha: <pyOpenLPT.math.Matrix object at 0x00000214BD8907B0>\n",
      "boundary: <pyOpenLPT.AxisLimit object at 0x00000214BD890E70>\n",
      "grid_x: [0.0, 0.1111111111111111, 0.2222222222222222, 0.3333333333333333, 0.4444444444444444, 0.5555555555555556, 0.6666666666666666, 0.7777777777777777, 0.8888888888888888, 1.0]\n",
      "grid_y: [0.0, 0.1111111111111111, 0.2222222222222222, 0.3333333333333333, 0.4444444444444444, 0.5555555555555556, 0.6666666666666666, 0.7777777777777777, 0.8888888888888888, 1.0]\n",
      "grid_z: [0.0, 0.1111111111111111, 0.2222222222222222, 0.3333333333333333, 0.4444444444444444, 0.5555555555555556, 0.6666666666666666, 0.7777777777777777, 0.8888888888888888, 1.0]\n"
     ]
    }
   ],
   "source": [
    "otf = lpt.stb.OTF()\n",
    "otf.loadParam(\"../../test/inputs/test_OTF/otf.txt\")\n",
    "\n",
    "param = otf._param \n",
    "print_dict(param.to_dict())"
   ]
  },
  {
   "cell_type": "code",
   "execution_count": 9,
   "metadata": {},
   "outputs": [
    {
     "name": "stdout",
     "output_type": "stream",
     "text": [
      "[125.0, 1.5, 1.5, 0.0]\n"
     ]
    }
   ],
   "source": [
    "# get otf param at (x,y,z)\n",
    "cam_id = 0\n",
    "pt3d = lpt.math.Pt3D(0.1, 0.5, 0.4)\n",
    "\n",
    "otf_param = otf.getOTFParam(cam_id, pt3d)\n",
    "print(otf_param)"
   ]
  },
  {
   "cell_type": "markdown",
   "metadata": {},
   "source": [
    "### Shake class"
   ]
  },
  {
   "cell_type": "code",
   "execution_count": 23,
   "metadata": {},
   "outputs": [
    {
     "name": "stdout",
     "output_type": "stream",
     "text": [
      "cam1: 11995 tracers\n",
      "cam2: 12006 tracers\n",
      "cam3: 11991 tracers\n",
      "cam4: 11969 tracers\n"
     ]
    }
   ],
   "source": [
    "# load cam \n",
    "cam = []\n",
    "intensity_max = []\n",
    "useid_list = []\n",
    "for i in range(4):\n",
    "    file = '../../test/inputs/test_Shake/cam' + str(i+1) + '.txt'\n",
    "    cam.append(lpt.math.Camera(file))\n",
    "    intensity_max.append(255)\n",
    "    useid_list.append(i)\n",
    "cam_list = lpt.math.CamList(cam, intensity_max, useid_list)\n",
    "# print_dict(cam_list.to_dict())\n",
    "\n",
    "# load image path \n",
    "imgio_list = []\n",
    "folder = '../../test/inputs/test_Shake/'\n",
    "for i in range(4):\n",
    "    file = 'cam' + str(i+1) + 'ImageNames.txt'\n",
    "    imgio = lpt.math.ImageIO()\n",
    "    imgio.loadImgPath(folder, file)\n",
    "    # print(imgio.to_dict())\n",
    "    \n",
    "    imgio_list.append(imgio)\n",
    "    \n",
    "# load image \n",
    "img_list = []\n",
    "for i in range(4):\n",
    "    img_list.append(imgio_list[i].loadImg(0))\n",
    "\n",
    "# find 2d tracer \n",
    "tr2d_list_all = []\n",
    "property = [255, 30, 2]\n",
    "for i in range(4):\n",
    "    tr2d_list = lpt.object.ObjectFinder2D().findObject2D(img_list[i], property)\n",
    "    tr2d_list_all.append(tr2d_list)\n",
    "    print('cam'+str(i+1)+':', len(tr2d_list), 'tracers')\n"
   ]
  },
  {
   "cell_type": "code",
   "execution_count": 24,
   "metadata": {},
   "outputs": [
    {
     "name": "stdout",
     "output_type": "stream",
     "text": [
      "\tFinish stereomatching: n_before_del = 14368.\n",
      "\tFinish deleting gohst match: n_del = 3559, n_after_del = 10809.\n"
     ]
    }
   ],
   "source": [
    "# stereo match\n",
    "sm_param = lpt.stb.SMParam()\n",
    "sm_param.tor_2d = 1.\n",
    "sm_param.tor_3d = 2.4e-2\n",
    "sm_param.n_thread = 6\n",
    "sm_param.check_id = 3\n",
    "sm_param.check_radius = 3\n",
    "sm_param.is_delete_ghost = True\n",
    "sm_param.is_update_inner_var = False\n",
    "\n",
    "sm = lpt.stb.StereoMatch(sm_param, cam_list)\n",
    "tr3d_list = sm.match(tr2d_list_all)\n",
    "sm.saveObjInfo(\"../../test/results/test_Shake/tr3d_img_deleteGhost.csv\", tr3d_list)"
   ]
  },
  {
   "cell_type": "code",
   "execution_count": 25,
   "metadata": {},
   "outputs": [
    {
     "name": "stdout",
     "output_type": "stream",
     "text": [
      "\tShake::removeGhost: 0 ghost tracers are removed.\n"
     ]
    }
   ],
   "source": [
    "# otf \n",
    "boundary = lpt.AxisLimit()\n",
    "boundary.x_min = -20\n",
    "boundary.x_max =  20\n",
    "boundary.y_min = -20\n",
    "boundary.y_max =  20\n",
    "boundary.z_min = -20\n",
    "boundary.z_max =  20\n",
    "otf = lpt.stb.OTF()\n",
    "otf.loadParam(4, 2, 2, 2, boundary)\n",
    "\n",
    "# shake\n",
    "shake = lpt.stb.Shake(cam_list=cam_list, shake_width=0.01, score_min=0.1, n_loop=4, n_thread=6)\n",
    "tr3d_list_shake = shake.runShake(tr3d_list, otf, img_list, False)\n",
    "\n",
    "sm.saveObjInfo(\"../../test/results/test_Shake/tr3d_img_shake.csv\", tr3d_list_shake)"
   ]
  },
  {
   "cell_type": "markdown",
   "metadata": {},
   "source": [
    "### IPR class"
   ]
  },
  {
   "cell_type": "code",
   "execution_count": 26,
   "metadata": {},
   "outputs": [],
   "source": [
    "# load cam \n",
    "cam = []\n",
    "intensity_max = []\n",
    "useid_list = []\n",
    "for i in range(4):\n",
    "    file = '../../test/inputs/test_IPR/cam' + str(i+1) + '.txt'\n",
    "    cam.append(lpt.math.Camera(file))\n",
    "    intensity_max.append(255)\n",
    "    useid_list.append(i)\n",
    "cam_list = lpt.math.CamList(cam, intensity_max, useid_list)\n",
    "# print_dict(cam_list.to_dict())\n",
    "\n",
    "# load image path \n",
    "imgio_list = []\n",
    "folder = '../../test/inputs/test_IPR/'\n",
    "for i in range(4):\n",
    "    file = 'cam' + str(i+1) + 'ImageNames.txt'\n",
    "    imgio = lpt.math.ImageIO()\n",
    "    imgio.loadImgPath(folder, file)\n",
    "    # print(imgio.to_dict())\n",
    "    \n",
    "    imgio_list.append(imgio)\n",
    "    \n",
    "# load image \n",
    "img_list = []\n",
    "for i in range(4):\n",
    "    img_list.append(imgio_list[i].loadImg(0))"
   ]
  },
  {
   "cell_type": "code",
   "execution_count": 27,
   "metadata": {},
   "outputs": [
    {
     "name": "stdout",
     "output_type": "stream",
     "text": [
      "<IPR Parameters>\n",
      "tri_only: False\n",
      "n_thread: 6\n",
      "n_loop_ipr: 4\n",
      "n_loop_ipr_reduced: 2\n",
      "n_obj2d_max: 100000\n",
      "tol_2d: 1.0\n",
      "tol_3d: 0.024\n",
      "check_id: 3\n",
      "check_radius: 3.0\n",
      "n_loop_shake: 1\n",
      "shake_width: 0.024\n",
      "ghost_threshold: 0.1\n"
     ]
    }
   ],
   "source": [
    "boundary = lpt.AxisLimit(-20, 20, -20, 20, -20, 20)\n",
    "otf = lpt.stb.OTF(4, 2, 2, 2, boundary)\n",
    "tr2d_properties = [255, 30, 2]\n",
    "\n",
    "# IPR param\n",
    "ipr_param = lpt.stb.IPRParam()\n",
    "print('<IPR Parameters>')\n",
    "print_dict(ipr_param.to_dict())"
   ]
  },
  {
   "cell_type": "code",
   "execution_count": 28,
   "metadata": {},
   "outputs": [
    {
     "name": "stdout",
     "output_type": "stream",
     "text": [
      "\tNumber of found tracers in each camera: 11995,12006,11991,11969,\n",
      "\tFinish stereomatching: n_before_del = 14368.\n",
      "\tFinish deleting gohst match: n_del = 3559, n_after_del = 10809.\n",
      "\tMatching time = 1.566 [s]\n",
      "\tShake::removeGhost: 0 ghost tracers are removed.\n",
      "\tShake time = 0.203 [s]\n",
      "  IPR step 0: find 10809 particles. \n",
      "\tNumber of found tracers in each camera: 1470,1468,1456,1479,\n",
      "\tFinish stereomatching: n_before_del = 1236.\n",
      "\tFinish deleting gohst match: n_del = 157, n_after_del = 1079.\n",
      "\tMatching time = 0.421 [s]\n",
      "\tShake::removeGhost: 0 ghost tracers are removed.\n",
      "\tShake time = 0.024 [s]\n",
      "  IPR step 1: find 11888 particles. \n",
      "\tNumber of found tracers in each camera: 396,393,380,399,\n",
      "\tFinish stereomatching: n_before_del = 64.\n",
      "\tFinish deleting gohst match: n_del = 9, n_after_del = 55.\n",
      "\tMatching time = 0.355 [s]\n",
      "\tShake::removeGhost: 0 ghost tracers are removed.\n",
      "\tShake time = 0.008 [s]\n",
      "  IPR step 2: find 11943 particles. \n",
      "\tNumber of found tracers in each camera: 341,337,327,344,\n",
      "\tFinish stereomatching: n_before_del = 3.\n",
      "\tFinish deleting gohst match: n_del = 0, n_after_del = 3.\n",
      "\tMatching time = 0.359 [s]\n",
      "\tShake::removeGhost: 0 ghost tracers are removed.\n",
      "\tShake time = 0.007 [s]\n",
      "  IPR step 3: find 11946 particles. \n",
      "IPR Finish! Find 11946 particles. Total time = 2.994 [s]\n"
     ]
    }
   ],
   "source": [
    "# IPR\n",
    "ipr = lpt.stb.IPR(cam_list, img_list, ipr_param)\n",
    "tr3d_list = ipr.runIPR(tr2d_properties, otf, n_reduced=0)\n",
    "\n",
    "ipr.saveObjInfo(\"../../test/results/test_IPR/tr3d_img_ipr.csv\", tr3d_list)"
   ]
  },
  {
   "cell_type": "markdown",
   "metadata": {},
   "source": [
    "### PredField class "
   ]
  },
  {
   "cell_type": "code",
   "execution_count": 2,
   "metadata": {},
   "outputs": [],
   "source": [
    "# load 3D points \n",
    "inputs_prev = np.loadtxt('../../test/inputs/test_PredField/pts_prev_1.csv', delimiter=',') \n",
    "inputs_curr = np.loadtxt('../../test/inputs/test_PredField/pts_curr_1.csv', delimiter=',')\n",
    "\n",
    "pt3d_list_prev = []\n",
    "pt3d_list_curr = []\n",
    "n_pt = inputs_prev.shape[0]\n",
    "for i in range(n_pt):\n",
    "    pt3d_list_prev.append(lpt.math.Pt3D(inputs_prev[i,0], inputs_prev[i,1], inputs_prev[i,2]))\n",
    "    pt3d_list_curr.append(lpt.math.Pt3D(inputs_curr[i,0], inputs_curr[i,1], inputs_curr[i,2]))"
   ]
  },
  {
   "cell_type": "code",
   "execution_count": 3,
   "metadata": {},
   "outputs": [],
   "source": [
    "# PredField param \n",
    "pred_param = lpt.stb.PFParam()\n",
    "pred_param.limit = lpt.AxisLimit(-20, 20, -20, 20, -20, 20)\n",
    "pred_param.nx = 51\n",
    "pred_param.ny = 51\n",
    "pred_param.nz = 51\n",
    "pred_param.r = 0.4 \n",
    "pred_param.nBin_x = 5\n",
    "pred_param.nBin_y = 5\n",
    "pred_param.nBin_z = 5\n",
    "\n",
    "# PredField\n",
    "pf = lpt.stb.PredField(pred_param, pt3d_list_prev, pt3d_list_curr)"
   ]
  },
  {
   "cell_type": "code",
   "execution_count": 4,
   "metadata": {},
   "outputs": [
    {
     "name": "stdout",
     "output_type": "stream",
     "text": [
      "<PredField>\n",
      "_param: <pyOpenLPT.stb.PFParam object at 0x0000022B4C00EF30>\n",
      "_disp_field: <pyOpenLPT.math.Matrix object at 0x0000022B2BE2E170>\n"
     ]
    }
   ],
   "source": [
    "print('<PredField>')\n",
    "print_dict(pf.to_dict())"
   ]
  },
  {
   "cell_type": "markdown",
   "metadata": {},
   "source": [
    "### Track class"
   ]
  },
  {
   "cell_type": "code",
   "execution_count": 2,
   "metadata": {},
   "outputs": [
    {
     "name": "stdout",
     "output_type": "stream",
     "text": [
      "<TracerTrack>\n",
      "_obj3d_list: []\n",
      "_t_list: []\n",
      "_n_obj3d: 0\n",
      "_active: True\n",
      "\n",
      "<TracerTrack> after adding\n",
      "_obj3d_list: [<pyOpenLPT.object.Tracer3D object at 0x00000191E82126F0>]\n",
      "_t_list: [5]\n",
      "_n_obj3d: 1\n",
      "_active: True\n",
      "\n"
     ]
    }
   ],
   "source": [
    "# initialize\n",
    "track = lpt.stb.TracerTrack()\n",
    "print('<TracerTrack>')\n",
    "print_dict(track.to_dict())\n",
    "\n",
    "# add obj to the track \n",
    "obj3d = lpt.object.Tracer3D(lpt.math.Pt3D(1, 2, 3))\n",
    "obj3d._error = 4 \n",
    "obj3d._n_2d = 1\n",
    "obj3d._camid_list = [6]\n",
    "obj3d._tr2d_list = [lpt.object.Tracer2D(lpt.math.Pt2D(7, 8))]\n",
    "\n",
    "track.addNext(obj3d, 5)\n",
    "print('<TracerTrack> after adding')\n",
    "print_dict(track.to_dict())"
   ]
  },
  {
   "cell_type": "code",
   "execution_count": 3,
   "metadata": {},
   "outputs": [],
   "source": [
    "n_cam_all = 10\n",
    "fps = 1\n",
    "\n",
    "file = \"../../test/results/test_Track/test_function_1.csv\"\n",
    "with open(file, 'w') as f:\n",
    "    f.write('TrackID,FrameID,WorldX,WorldY,WorldZ,Error,Ncam\\n')\n",
    "    for i in range(n_cam_all):\n",
    "        f.write(',cam'+str(i)+'_x(col),cam'+str(i)+'_y(row)')\n",
    "    f.write('\\n')\n",
    "\n",
    "track.saveTrack(file, 0, fps, n_cam_all)"
   ]
  },
  {
   "cell_type": "markdown",
   "metadata": {},
   "source": [
    "### STB class "
   ]
  },
  {
   "cell_type": "code",
   "execution_count": null,
   "metadata": {},
   "outputs": [],
   "source": []
  }
 ],
 "metadata": {
  "kernelspec": {
   "display_name": "OpenLPTGUI",
   "language": "python",
   "name": "python3"
  },
  "language_info": {
   "codemirror_mode": {
    "name": "ipython",
    "version": 3
   },
   "file_extension": ".py",
   "mimetype": "text/x-python",
   "name": "python",
   "nbconvert_exporter": "python",
   "pygments_lexer": "ipython3",
   "version": "3.9.19"
  }
 },
 "nbformat": 4,
 "nbformat_minor": 2
}
